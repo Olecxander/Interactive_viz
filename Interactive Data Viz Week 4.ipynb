{
 "cells": [
  {
   "cell_type": "code",
   "execution_count": 3,
   "id": "4dd29a55-c0bb-4689-a29f-02a73863be2d",
   "metadata": {},
   "outputs": [
    {
     "data": {
      "text/html": [
       "\n",
       "        <iframe\n",
       "            width=\"100%\"\n",
       "            height=\"650\"\n",
       "            src=\"http://127.0.0.1:8050/\"\n",
       "            frameborder=\"0\"\n",
       "            allowfullscreen\n",
       "            \n",
       "        ></iframe>\n",
       "        "
      ],
      "text/plain": [
       "<IPython.lib.display.IFrame at 0x205e13279d0>"
      ]
     },
     "metadata": {},
     "output_type": "display_data"
    }
   ],
   "source": [
    "import pandas as pd\n",
    "import dash\n",
    "import dash_core_components as dcc\n",
    "import dash_html_components as html\n",
    "from dash.dependencies import Input, Output\n",
    "import plotly.express as px\n",
    "\n",
    "# Load the DJIA dataset from a CSV file\n",
    "df = sns.load_dataset('dowjones')\n",
    "\n",
    "# Convert the date column to datetime format\n",
    "df['Date'] = pd.to_datetime(df['Date'])\n",
    "\n",
    "# Sort the data by date (if it's not already sorted)\n",
    "df = df.sort_values(by='Date')\n",
    "\n",
    "# Create a Dash application\n",
    "app = dash.Dash(__name__)\n",
    "\n",
    "# Define the app layout\n",
    "app.layout = html.Div([\n",
    "    html.H1('DJIA Closing Price Over Time'),\n",
    "    dcc.Graph(id='djia-graph'),\n",
    "    dcc.RangeSlider(\n",
    "        id='date-slider',\n",
    "        min=df['Date'].min().timestamp(),\n",
    "        max=df['Date'].max().timestamp(),\n",
    "        step=1,\n",
    "        marks={int(i): pd.Timestamp(i, unit='s').strftime('%Y-%m-%d') for i in range(\n",
    "            int(df['Date'].min().timestamp()), int(df['Date'].max().timestamp()), 3600 * 24 * 30)},\n",
    "        value=[df['Date'].min().timestamp(), df['Date'].max().timestamp()],\n",
    "    ),\n",
    "    html.Div(id='date-label'),\n",
    "])\n",
    "\n",
    "# Define callback to update the graph and date labels based on the date range selected\n",
    "@app.callback(\n",
    "    [Output('djia-graph', 'figure'), Output('date-label', 'children')],\n",
    "    Input('date-slider', 'value')\n",
    ")\n",
    "def update_graph(selected_dates):\n",
    "    start_date = pd.Timestamp(selected_dates[0], unit='s')\n",
    "    end_date = pd.Timestamp(selected_dates[1], unit='s')\n",
    "    \n",
    "    filtered_df = df[(df['Date'] >= start_date) & (df['Date'] <= end_date)]\n",
    "    \n",
    "    fig = px.line(filtered_df, x='Date', y='Price', title='DJIA Closing Price Over Time')\n",
    "    \n",
    "    selected_start_date = pd.Timestamp(selected_dates[0], unit='s').strftime('%Y-%m-%d')\n",
    "    selected_end_date = pd.Timestamp(selected_dates[1], unit='s').strftime('%Y-%m-%d')\n",
    "    date_range_text = f'Selected Date Range: {selected_start_date} - {selected_end_date}'\n",
    "    \n",
    "    return fig, date_range_text\n",
    "\n",
    "if __name__ == '__main__':\n",
    "    app.run_server(debug=True)\n",
    "\n",
    "    \n"
   ]
  },
  {
   "cell_type": "code",
   "execution_count": null,
   "id": "df7a90fa-bfee-40c0-b9e1-e8fddf21c646",
   "metadata": {},
   "outputs": [],
   "source": []
  }
 ],
 "metadata": {
  "kernelspec": {
   "display_name": "Python 3 (ipykernel)",
   "language": "python",
   "name": "python3"
  },
  "language_info": {
   "codemirror_mode": {
    "name": "ipython",
    "version": 3
   },
   "file_extension": ".py",
   "mimetype": "text/x-python",
   "name": "python",
   "nbconvert_exporter": "python",
   "pygments_lexer": "ipython3",
   "version": "3.9.13"
  }
 },
 "nbformat": 4,
 "nbformat_minor": 5
}
